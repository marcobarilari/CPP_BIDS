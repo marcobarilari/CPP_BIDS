{
 "cells": [
  {
   "cell_type": "code",
   "execution_count": null,
   "metadata": {},
   "outputs": [],
   "source": [
    "% add the relevant functions from the src folder\n",
    "addpath(genpath(fullfile(pwd, '..', 'src')))"
   ]
  },
  {
   "cell_type": "markdown",
   "metadata": {},
   "source": [
    "## Setting the parameters about our experiment\n",
    "\n",
    "We need to define the configuration structure where we put all our information."
   ]
  },
  {
   "cell_type": "code",
   "execution_count": null,
   "metadata": {},
   "outputs": [],
   "source": [
    "% define the folder where the data will be saved\n",
    "cfg.dir.output = fullfile(pwd, 'output');\n",
    "\n",
    "% define the name of the task\n",
    "cfg.task.name = 'test task';\n",
    "\n",
    "% can use the userInputs function to collect subject info\n",
    "% cfg = userInputs;\n",
    "\n",
    "% Or we can add those information manually directly\n",
    "cfg.subject.subjectNb = 1;\n",
    "cfg.subject.runNb = 1;\n",
    "\n",
    "% if set to 'mri' then the data will be saved in the `func` folder\n",
    "cfg.testingDevice = 'mri';\n",
    "\n",
    "% to keep things quiet\n",
    "cfg.verbose = false;\n"
   ]
  },
  {
   "cell_type": "markdown",
   "metadata": {},
   "source": [
    "If set to `eeg` then the data will be saved in the `eeg` folder\n",
    "\n",
    "```\n",
    "cfg.testingDevice = 'eeg';\n",
    "```\n",
    "\n",
    "By default we assume you are running things on a behavioral PC with no eyetracker.\n",
    "\n",
    "```\n",
    "cfg.eyeTracker = false;\n",
    "cfg.testingDevice = 'pc';\n",
    "```\n",
    "\n",
    "If the testing device is set to `pc` then the data will be saved in the `beh` folder"
   ]
  },
  {
   "cell_type": "code",
   "execution_count": null,
   "metadata": {},
   "outputs": [],
   "source": [
    "% We can then initialize all the other fields. The ones we have already filled in will not be overwritten\n",
    "cfg = checkCFG(cfg)"
   ]
  },
  {
   "cell_type": "markdown",
   "metadata": {},
   "source": [
    "## Creating BIDS paths and filenames"
   ]
  },
  {
   "cell_type": "code",
   "execution_count": null,
   "metadata": {},
   "outputs": [],
   "source": [
    "% create the filenames: this include a step to check that all the information is there: createFilename calls \n",
    "% checkCFG before running\n",
    "[cfg] = createFilename(cfg);"
   ]
  },
  {
   "cell_type": "markdown",
   "metadata": {},
   "source": [
    "### Output directory for this subject\n",
    "\n",
    "Everything is put in a `source` folder to distinguish it from the `raw` that is usually reserved for the final 'true' BIDS data.\n",
    "\n",
    "You can see that even though it was not specified a session folder and label is added to the folder structure and the filename."
   ]
  },
  {
   "cell_type": "code",
   "execution_count": null,
   "metadata": {
    "scrolled": false
   },
   "outputs": [],
   "source": [
    "cfg.dir.outputSubject"
   ]
  },
  {
   "cell_type": "markdown",
   "metadata": {},
   "source": [
    "### filename for events.tsv files\n",
    "\n",
    "You will note that we are converting the name of the task to a `camelCase`.\n",
    "\n",
    "`test task` --> `testTask`"
   ]
  },
  {
   "cell_type": "code",
   "execution_count": null,
   "metadata": {},
   "outputs": [],
   "source": [
    "cfg.fileName.events"
   ]
  },
  {
   "cell_type": "markdown",
   "metadata": {},
   "source": [
    "The fullpath for this file would be:"
   ]
  },
  {
   "cell_type": "code",
   "execution_count": null,
   "metadata": {},
   "outputs": [],
   "source": [
    "fullfile(...\n",
    "    cfg.dir.outputSubject, ...\n",
    "    cfg.fileName.modality, ...\n",
    "    cfg.fileName.events)"
   ]
  },
  {
   "cell_type": "markdown",
   "metadata": {},
   "source": [
    "## Saving data to tsv file"
   ]
  },
  {
   "cell_type": "markdown",
   "metadata": {},
   "source": [
    "### Setting things up"
   ]
  },
  {
   "cell_type": "code",
   "execution_count": null,
   "metadata": {},
   "outputs": [],
   "source": [
    "clear cfg\n",
    "\n",
    "cfg.dir.output = fullfile(pwd, 'output');\n",
    "\n",
    "cfg.task.name = 'test task';\n",
    "\n",
    "cfg.subject.subjectNb = 1;\n",
    "cfg.subject.runNb = 1;\n",
    "\n",
    "cfg.testingDevice = 'mri';\n",
    "\n",
    "cfg.verbose = false;\n",
    "\n",
    "% Create the filenames\n",
    "[cfg] = createFilename(cfg);\n",
    "\n",
    "% We can define what extra columns we want in our tsv file beyond the \n",
    "% BIDS holy trinity ('onset', 'duration', 'trial_type')\n",
    "\n",
    "% Say we want to keep track of the type of target that what presented during a trial and of its position\n",
    "logFile.extraColumns = {'target_position', 'target_type'};\n"
   ]
  },
  {
   "cell_type": "markdown",
   "metadata": {},
   "source": [
    "### Preparing your data dictionnary\n",
    "\n",
    "We can then initialize our logfile."
   ]
  },
  {
   "cell_type": "code",
   "execution_count": null,
   "metadata": {},
   "outputs": [],
   "source": [
    "logFile = saveEventsFile('init', cfg, logFile);"
   ]
  },
  {
   "cell_type": "markdown",
   "metadata": {},
   "source": [
    "This will initialize a structure for each extra column."
   ]
  },
  {
   "cell_type": "code",
   "execution_count": null,
   "metadata": {
    "scrolled": false
   },
   "outputs": [],
   "source": [
    "logFile.extraColumns.target_position.bids"
   ]
  },
  {
   "cell_type": "markdown",
   "metadata": {},
   "source": [
    "You can then add information about each extraccolumns so they are saved in the JSON data dictionary that will go with the `.tsv` file."
   ]
  },
  {
   "cell_type": "code",
   "execution_count": null,
   "metadata": {},
   "outputs": [],
   "source": [
    "logFile.extraColumns.target_position.bids.Description = 'Position of the target on the screen';\n",
    "logFile.extraColumns.target_position.bids.Levels = {'left', 'center', 'right'};\n",
    "\n",
    "logFile.extraColumns.target_position.bids"
   ]
  },
  {
   "cell_type": "markdown",
   "metadata": {},
   "source": [
    "### Adding data during the experiment\n",
    "\n",
    "A couple of things to do before you start the main loop of your experiment."
   ]
  },
  {
   "cell_type": "code",
   "execution_count": null,
   "metadata": {},
   "outputs": [],
   "source": [
    "% create the output directory\n",
    "mkdir(fullfile(cfg.dir.outputSubject, cfg.fileName.modality));\n",
    "% open the file\n",
    "logFile = saveEventsFile('open', cfg, logFile);\n",
    "\n",
    "% This prints the header of the tsv file.\n"
   ]
  },
  {
   "cell_type": "markdown",
   "metadata": {},
   "source": [
    "Calling `tree` from the linux command line to see that we got what we want"
   ]
  },
  {
   "cell_type": "code",
   "execution_count": null,
   "metadata": {
    "scrolled": true
   },
   "outputs": [],
   "source": [
    "!tree"
   ]
  },
  {
   "cell_type": "markdown",
   "metadata": {},
   "source": [
    "2 things to note.\n",
    "\n",
    "- A `_date-YYYYMMDDHHMM` suffix is appended to the file name. This is NOT accepted by the BIDS filenaming convention. This was introduced to prevent overwriting files by mistake in case some things were re-run. When you convert the source data into raw data, this date suffix should be removed (the `removeDataSuffix` is there for that).\n",
    "\n",
    "- A json file that stores your data dictionnary was created.\n",
    "\n",
    "Let's inpsect its content."
   ]
  },
  {
   "cell_type": "code",
   "execution_count": null,
   "metadata": {},
   "outputs": [],
   "source": [
    "!cat output/source/sub-001/ses-001/func/sub-001_ses-001_task-testTask_run-001_events_date-*.json"
   ]
  },
  {
   "cell_type": "code",
   "execution_count": null,
   "metadata": {},
   "outputs": [],
   "source": [
    "% The information about 2 events that we want to save\n",
    "% NOTE : If the user DOES NOT provide `onset`, `trial_type`, this events will be skipped.\n",
    "\n",
    "% Trial one\n",
    "logFile(1,1).onset = 2;\n",
    "logFile(1,1).trial_type = 'motion_up';\n",
    "logFile(1,1).duration = 1;\n",
    "logFile(1,1).target_position = 'left';\n",
    "logFile(1,1).target_type = 'audio';\n",
    "\n",
    "% Trial two\n",
    "logFile(2,1).onset = 6;\n",
    "logFile(2,1).trial_type = 'static';\n",
    "logFile(2,1).duration = 1.2;\n",
    "logFile(2,1).target_position = 'right';\n",
    "logFile(2,1).target_type = 'visual';\n",
    "\n",
    "% add those 2 events to the events.tsv file\n",
    "\n",
    "logFile = saveEventsFile('save', cfg, logFile);\n"
   ]
  },
  {
   "cell_type": "markdown",
   "metadata": {},
   "source": [
    "The content of the `logfile` structure is emptied after every save so saving again will only throw a warning."
   ]
  },
  {
   "cell_type": "code",
   "execution_count": null,
   "metadata": {},
   "outputs": [],
   "source": [
    "logFile = saveEventsFile('save', cfg, logFile);"
   ]
  },
  {
   "cell_type": "markdown",
   "metadata": {},
   "source": [
    "Any missing information will be replaced by `n/a`.\n",
    "\n",
    "And will throw a warning. They can be quite verbose on octave."
   ]
  },
  {
   "cell_type": "code",
   "execution_count": null,
   "metadata": {},
   "outputs": [],
   "source": [
    "% New trial\n",
    "logFile(1,1).onset = 10;\n",
    "logFile(1,1).trial_type = 'motion_down';\n",
    "logFile(1,1).duration = 1;\n",
    "logFile(1,1).target_position = [];\n",
    "logFile(1,1).target_type = 'audio';\n",
    "\n",
    "logFile = saveEventsFile('save', cfg, logFile);"
   ]
  },
  {
   "cell_type": "markdown",
   "metadata": {},
   "source": [
    "You can then close the file."
   ]
  },
  {
   "cell_type": "code",
   "execution_count": null,
   "metadata": {},
   "outputs": [],
   "source": [
    "% close the file\n",
    "cfg.verbose = true; % set verbose in true if you want to know where things are\n",
    "saveEventsFile('close', cfg, logFile);"
   ]
  },
  {
   "cell_type": "markdown",
   "metadata": {},
   "source": [
    "### Inspecting the output\n",
    "\n",
    "The `bids-matlab` toolbox comes as part of CPP_BIDS as a submodule so you can easily load the content of this tsv file."
   ]
  },
  {
   "cell_type": "code",
   "execution_count": null,
   "metadata": {},
   "outputs": [],
   "source": [
    "output = bids.util.tsvread( ...\n",
    "    fullfile(...\n",
    "    cfg.dir.outputSubject, ...\n",
    "    cfg.fileName.modality, ...\n",
    "    cfg.fileName.events))"
   ]
  }
 ],
 "metadata": {
  "kernelspec": {
   "display_name": "Octave",
   "language": "octave",
   "name": "octave"
  },
  "language_info": {
   "file_extension": ".m",
   "help_links": [
    {
     "text": "GNU Octave",
     "url": "https://www.gnu.org/software/octave/support.html"
    },
    {
     "text": "Octave Kernel",
     "url": "https://github.com/Calysto/octave_kernel"
    },
    {
     "text": "MetaKernel Magics",
     "url": "https://metakernel.readthedocs.io/en/latest/source/README.html"
    }
   ],
   "mimetype": "text/x-octave",
   "name": "octave",
   "version": "4.2.2"
  }
 },
 "nbformat": 4,
 "nbformat_minor": 4
}
