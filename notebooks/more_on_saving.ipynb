{
 "cells": [
  {
   "cell_type": "markdown",
   "metadata": {},
   "source": [
    "## Saving arrays in the tsv file"
   ]
  },
  {
   "cell_type": "code",
   "execution_count": 9,
   "metadata": {},
   "outputs": [],
   "source": [
    "% add the relevant functions from the src folder\n",
    "addpath(genpath(fullfile(pwd, '..', 'src')));\n",
    "\n",
    "cfg.dir.output = fullfile(pwd, 'output');\n",
    "\n",
    "cfg.task.name = 'test task';\n",
    "\n",
    "cfg.subject.subjectNb = 1;\n",
    "cfg.subject.runNb = 1;\n",
    "\n",
    "cfg.testingDevice = 'mri';\n",
    "\n",
    "cfg.verbose = false;\n",
    "\n",
    "[cfg] = createFilename(cfg);\n",
    "\n",
    "mkdir(fullfile(cfg.dir.outputSubject, cfg.fileName.modality));"
   ]
  },
  {
   "cell_type": "markdown",
   "metadata": {},
   "source": [
    "Saving arrays into the tsv file is possible as long as you specify the length of the variables you expect for each response field."
   ]
  },
  {
   "cell_type": "code",
   "execution_count": 10,
   "metadata": {},
   "outputs": [],
   "source": [
    "logFile.extraColumns.target_position.length =  2;\n",
    "logFile.extraColumns.target_type.length =  1;"
   ]
  },
  {
   "cell_type": "markdown",
   "metadata": {},
   "source": [
    "Note that it is also possible to directly open the file: things will be intialised automatically."
   ]
  },
  {
   "cell_type": "code",
   "execution_count": 11,
   "metadata": {},
   "outputs": [
    {
     "name": "stdout",
     "output_type": "stream",
     "text": [
      "onset\tduration\ttrial_type\tspeed\tis_fixation\tSpeed_01\tSpeed_02\tSpeed_03\tSpeed_04\tSpeed_05\tSpeed_06\tSpeed_07\tSpeed_08\tSpeed_09\tSpeed_10\tSpeed_11\tSpeed_12\ttarget_position_01\ttarget_position_02\ttarget_type\r\n"
     ]
    }
   ],
   "source": [
    "logFile = saveEventsFile('open', cfg, logFile);"
   ]
  },
  {
   "cell_type": "markdown",
   "metadata": {},
   "source": [
    "If an event is missing the `onset` or the `duration` it will be skipped."
   ]
  },
  {
   "cell_type": "code",
   "execution_count": 12,
   "metadata": {
    "scrolled": true
   },
   "outputs": [
    {
     "name": "stdout",
     "output_type": "stream",
     "text": [
      "2.000000\t1.000000\tmotion_up\tn/a\tn/a\tn/a\t2.000000\t1.000000\tvisual\t\r\n"
     ]
    }
   ],
   "source": [
    "% Trial one : missing duration value\n",
    "logFile(1,1).onset = 2;\n",
    "logFile(1,1).trial_type = 'motion_up';\n",
    "logFile(1,1).duration = [];\n",
    "logFile(1,1).target_position = [2, 1];\n",
    "logFile(1,1).target_type = 'visual';\n",
    "\n",
    "% Trial two\n",
    "logFile(1,1).onset = 2;\n",
    "logFile(1,1).trial_type = 'motion_up';\n",
    "logFile(1,1).duration = 1;\n",
    "logFile(1,1).target_position = [2, 1];\n",
    "logFile(1,1).target_type = 'visual';\n",
    "\n",
    "logFile = saveEventsFile('save', cfg, logFile);"
   ]
  },
  {
   "cell_type": "markdown",
   "metadata": {},
   "source": [
    "Missing data in an array will be NaN padded."
   ]
  },
  {
   "cell_type": "code",
   "execution_count": 13,
   "metadata": {},
   "outputs": [
    {
     "name": "stdout",
     "output_type": "stream",
     "text": [
      "warning: Missing some target_position data for this event.\r\n",
      "warning: called from\r\n",
      "    saveEventsFile>checkExtracolumns at line 219 column 13\r\n",
      "    saveEventsFile>checklLogFile at line 140 column 21\r\n",
      "    saveEventsFile>saveToLogFile at line 282 column 17\r\n",
      "    saveEventsFile at line 90 column 21\r\n",
      "6.000000\t1.200000\tstatic\tn/a\tn/a\tn/a\t3.000000\tn/a\taudio\t\r\n"
     ]
    }
   ],
   "source": [
    "% Trial two\n",
    "logFile(1,1).onset = 6;\n",
    "logFile(1,1).trial_type = 'static';\n",
    "logFile(1,1).duration = 1.2;\n",
    "logFile(1,1).target_position = [3];\n",
    "logFile(1,1).target_type = 'audio';\n",
    "\n",
    "logFile = saveEventsFile('save', cfg, logFile);"
   ]
  },
  {
   "cell_type": "markdown",
   "metadata": {},
   "source": [
    "And extra information will dropped from arrays. "
   ]
  },
  {
   "cell_type": "code",
   "execution_count": 14,
   "metadata": {},
   "outputs": [
    {
     "name": "stdout",
     "output_type": "stream",
     "text": [
      "warning: A field for this event is longer than expected. Truncating the extra values.\r\n",
      "warning: called from\r\n",
      "    saveEventsFile>nanPadding at line 269 column 9\r\n",
      "    saveEventsFile>checkExtracolumns at line 214 column 14\r\n",
      "    saveEventsFile>checklLogFile at line 140 column 21\r\n",
      "    saveEventsFile>saveToLogFile at line 282 column 17\r\n",
      "    saveEventsFile at line 90 column 21\r\n",
      "6.000000\t1.200000\tstatic\tn/a\tn/a\tn/a\t3.000000\t4.000000\ttouch\t\r\n"
     ]
    }
   ],
   "source": [
    "% Trial three\n",
    "logFile(1,1).onset = 6;\n",
    "logFile(1,1).trial_type = 'static';\n",
    "logFile(1,1).duration = 1.2;\n",
    "logFile(1,1).target_position = [3, 4, 5];\n",
    "logFile(1,1).target_type = 'touch';\n",
    "\n",
    "logFile = saveEventsFile('save', cfg, logFile);"
   ]
  },
  {
   "cell_type": "code",
   "execution_count": 15,
   "metadata": {},
   "outputs": [
    {
     "name": "stdout",
     "output_type": "stream",
     "text": [
      "\r\n",
      "Data were saved in this file:\r\n",
      "\r\n",
      "/home/remi/github/CPP_BIDS/notebooks/output/source/sub-001/ses-001/func/sub-001_ses-001_task-testTask_run-001_events_date-202008142241.tsv\r\n",
      "\r\n"
     ]
    }
   ],
   "source": [
    "% close the file\n",
    "cfg.verbose = true;\n",
    "saveEventsFile('close', cfg, logFile);"
   ]
  },
  {
   "cell_type": "markdown",
   "metadata": {},
   "source": [
    "In case you have many columns with only one value and a couple of columns with arrays.\n",
    "\n",
    "You would then do things this way"
   ]
  },
  {
   "cell_type": "code",
   "execution_count": 16,
   "metadata": {},
   "outputs": [
    {
     "name": "stdout",
     "output_type": "stream",
     "text": [
      "onset\tduration\ttrial_type\tspeed\tis_fixation\tSpeed_01\tSpeed_02\tSpeed_03\tSpeed_04\tSpeed_05\tSpeed_06\tSpeed_07\tSpeed_08\tSpeed_09\tSpeed_10\tSpeed_11\tSpeed_12\r\n"
     ]
    }
   ],
   "source": [
    "\n",
    "% define the extra columns: they will be added to the tsv files in the order the user input them\n",
    "logFile.extraColumns = {'speed', 'is_fixation', };\n",
    "\n",
    "% initialize the logFile variable\n",
    "[logFile] = saveEventsFile('init', cfg, logFile);\n",
    "\n",
    "% set the real length we really want\n",
    "logFile.extraColumns.Speed.length = 12;\n",
    "\n",
    "% open the file\n",
    "logFile = saveEventsFile('open', cfg, logFile);\n"
   ]
  },
  {
   "cell_type": "markdown",
   "metadata": {},
   "source": [
    "## Saving `_stim.tsv` files"
   ]
  }
 ],
 "metadata": {
  "kernelspec": {
   "display_name": "Octave",
   "language": "octave",
   "name": "octave"
  },
  "language_info": {
   "file_extension": ".m",
   "help_links": [
    {
     "text": "GNU Octave",
     "url": "https://www.gnu.org/software/octave/support.html"
    },
    {
     "text": "Octave Kernel",
     "url": "https://github.com/Calysto/octave_kernel"
    },
    {
     "text": "MetaKernel Magics",
     "url": "https://metakernel.readthedocs.io/en/latest/source/README.html"
    }
   ],
   "mimetype": "text/x-octave",
   "name": "octave",
   "version": "4.2.2"
  }
 },
 "nbformat": 4,
 "nbformat_minor": 4
}
