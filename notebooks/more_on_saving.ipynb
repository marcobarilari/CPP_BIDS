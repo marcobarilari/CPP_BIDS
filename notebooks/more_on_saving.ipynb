{
 "cells": [
  {
   "cell_type": "markdown",
   "metadata": {},
   "source": [
    "## Saving arrays in the tsv file"
   ]
  },
  {
   "cell_type": "code",
   "execution_count": null,
   "metadata": {},
   "outputs": [],
   "source": [
    "% add the relevant functions from the src folder\n",
    "addpath(genpath(fullfile(pwd, '..', 'src')));\n",
    "\n",
    "cfg.dir.output = fullfile(pwd, 'output');\n",
    "\n",
    "cfg.task.name = 'test task';\n",
    "\n",
    "cfg.subject.subjectNb = 1;\n",
    "cfg.subject.runNb = 1;\n",
    "\n",
    "cfg.testingDevice = 'mri';\n",
    "\n",
    "cfg.verbose = false;\n",
    "\n",
    "[cfg] = createFilename(cfg);\n",
    "\n",
    "mkdir(fullfile(cfg.dir.outputSubject, cfg.fileName.modality));"
   ]
  },
  {
   "cell_type": "markdown",
   "metadata": {},
   "source": [
    "Saving arrays into the tsv file is possible as long as you specify the length of the variables you expect for each response field."
   ]
  },
  {
   "cell_type": "code",
   "execution_count": null,
   "metadata": {},
   "outputs": [],
   "source": [
    "logFile.extraColumns.target_position.length =  2;\n",
    "logFile.extraColumns.target_type.length =  1;"
   ]
  },
  {
   "cell_type": "markdown",
   "metadata": {},
   "source": [
    "Note that it is also possible to directly open the file: things will be intialised automatically."
   ]
  },
  {
   "cell_type": "code",
   "execution_count": null,
   "metadata": {},
   "outputs": [],
   "source": [
    "logFile = saveEventsFile('open', cfg, logFile);"
   ]
  },
  {
   "cell_type": "code",
   "execution_count": null,
   "metadata": {},
   "outputs": [],
   "source": [
    "% Trial one\n",
    "logFile(1,1).onset = 2;\n",
    "logFile(1,1).trial_type = 'motion_up';\n",
    "logFile(1,1).duration = 1;\n",
    "logFile(1,1).target_position = [2, 1];\n",
    "logFile(1,1).target_type = 'visual';\n",
    "\n",
    "logFile = saveEventsFile('save', cfg, logFile);"
   ]
  },
  {
   "cell_type": "markdown",
   "metadata": {},
   "source": [
    "Missing data in an array will be NaN padded."
   ]
  },
  {
   "cell_type": "code",
   "execution_count": null,
   "metadata": {},
   "outputs": [],
   "source": [
    "% Trial two\n",
    "logFile(1,1).onset = 6;\n",
    "logFile(1,1).trial_type = 'static';\n",
    "logFile(1,1).duration = 1.2;\n",
    "logFile(1,1).target_position = [3];\n",
    "logFile(1,1).target_type = 'audio';\n",
    "\n",
    "logFile = saveEventsFile('save', cfg, logFile);"
   ]
  },
  {
   "cell_type": "markdown",
   "metadata": {},
   "source": [
    "And extra information will dropped from arrays. "
   ]
  },
  {
   "cell_type": "code",
   "execution_count": null,
   "metadata": {},
   "outputs": [],
   "source": [
    "% Trial three\n",
    "logFile(1,1).onset = 6;\n",
    "logFile(1,1).trial_type = 'static';\n",
    "logFile(1,1).duration = 1.2;\n",
    "logFile(1,1).target_position = [3, 4, 5];\n",
    "logFile(1,1).target_type = 'touch';\n",
    "\n",
    "logFile = saveEventsFile('save', cfg, logFile);"
   ]
  },
  {
   "cell_type": "code",
   "execution_count": null,
   "metadata": {},
   "outputs": [],
   "source": [
    "% close the file\n",
    "cfg.verbose = true;\n",
    "saveEventsFile('close', cfg, logFile);"
   ]
  },
  {
   "cell_type": "markdown",
   "metadata": {},
   "source": [
    "In case you have many columns with only one value and a couple of columns with arrays.\n",
    "\n",
    "You would then do things this way"
   ]
  },
  {
   "cell_type": "code",
   "execution_count": null,
   "metadata": {},
   "outputs": [],
   "source": [
    "\n",
    "% define the extra columns: they will be added to the tsv files in the order the user input them\n",
    "logFile.extraColumns = {'speed', 'is_fixation', };\n",
    "\n",
    "% initialize the logFile variable\n",
    "[logFile] = saveEventsFile('init', cfg, logFile);\n",
    "\n",
    "% set the real length we really want\n",
    "logFile.extraColumns.Speed.length = 12;\n",
    "\n",
    "% open the file\n",
    "logFile = saveEventsFile('open', cfg, logFile);\n"
   ]
  },
  {
   "cell_type": "markdown",
   "metadata": {},
   "source": [
    "## Saving `_stim.tsv` files"
   ]
  }
 ],
 "metadata": {
  "kernelspec": {
   "display_name": "Octave",
   "language": "octave",
   "name": "octave"
  },
  "language_info": {
   "file_extension": ".m",
   "help_links": [
    {
     "text": "GNU Octave",
     "url": "https://www.gnu.org/software/octave/support.html"
    },
    {
     "text": "Octave Kernel",
     "url": "https://github.com/Calysto/octave_kernel"
    },
    {
     "text": "MetaKernel Magics",
     "url": "https://metakernel.readthedocs.io/en/latest/source/README.html"
    }
   ],
   "mimetype": "text/x-octave",
   "name": "octave",
   "version": "4.2.2"
  }
 },
 "nbformat": 4,
 "nbformat_minor": 4
}
