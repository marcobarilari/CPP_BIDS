{
 "cells": [
  {
   "cell_type": "markdown",
   "metadata": {},
   "source": [
    "# Creatring BIDS dataset"
   ]
  },
  {
   "cell_type": "markdown",
   "metadata": {},
   "source": [
    "## Creating a dataset description"
   ]
  },
  {
   "cell_type": "code",
   "execution_count": null,
   "metadata": {},
   "outputs": [],
   "source": [
    "addpath(genpath(fullfile(pwd, '..', 'src')));\n",
    "\n",
    "cfg.dir.output = fullfile(pwd, 'output');\n",
    "\n",
    "cfg.task.name = 'test task';\n",
    "\n",
    "cfg.subject.subjectNb = 1;\n",
    "cfg.subject.runNb = 1;\n",
    "\n",
    "cfg.testingDevice = 'mri';\n",
    "\n",
    "cfg.eyetracker.do = 1;\n",
    "\n",
    "cfg.verbose = false;"
   ]
  },
  {
   "cell_type": "code",
   "execution_count": null,
   "metadata": {},
   "outputs": [],
   "source": [
    "cfg.bids.datasetDescription.Name = 'my new bids data set';\n",
    "cfg.bids.datasetDescription.BIDSVersion =  '1.3';\n",
    "cfg.bids.datasetDescription.License = 'CC-BY';\n",
    "cfg.bids.datasetDescription.Authors = {'John Wick', 'Napoléon Bonaparte'};\n",
    "cfg.bids.datasetDescription.Acknowledgements = '';\n",
    "cfg.bids.datasetDescription.HowToAcknowledge = '';\n",
    "cfg.bids.datasetDescription.Funding = {''};\n",
    "cfg.bids.datasetDescription.ReferencesAndLinks = {''};\n",
    "cfg.bids.datasetDescription.DatasetDOI = '';\n",
    "\n",
    "[cfg] = createFilename(cfg);"
   ]
  },
  {
   "cell_type": "code",
   "execution_count": null,
   "metadata": {},
   "outputs": [],
   "source": [
    "mkdir(fullfile(cfg.dir.outputSubject, cfg.fileName.modality));\n",
    "\n",
    "createDatasetDescription(cfg)"
   ]
  },
  {
   "cell_type": "code",
   "execution_count": null,
   "metadata": {},
   "outputs": [],
   "source": [
    "!tree"
   ]
  },
  {
   "cell_type": "code",
   "execution_count": null,
   "metadata": {},
   "outputs": [],
   "source": [
    "!cat output/source/dataset_description.json"
   ]
  },
  {
   "cell_type": "markdown",
   "metadata": {},
   "source": [
    "## fMRI"
   ]
  },
  {
   "cell_type": "markdown",
   "metadata": {},
   "source": [
    "### fMRI specific name suffixes\n",
    "\n",
    "You can specify some extra information for you fMRI runs as some of this information can be important for filenaming or to add to some JSON files."
   ]
  },
  {
   "cell_type": "code",
   "execution_count": null,
   "metadata": {},
   "outputs": [],
   "source": [
    "cfg.mri.repetitionTime = 2.1;\n",
    "cfg.mri.contrastEnhancement = [];\n",
    "cfg.mri.phaseEncodingDirection = [];\n",
    "cfg.mri.reconstruction = 'fast';\n",
    "cfg.mri.echo = '1';\n",
    "cfg.mri.acquisition = 'slow';"
   ]
  },
  {
   "cell_type": "code",
   "execution_count": null,
   "metadata": {},
   "outputs": [],
   "source": [
    "[cfg] = createFilename(cfg);"
   ]
  },
  {
   "cell_type": "code",
   "execution_count": null,
   "metadata": {},
   "outputs": [],
   "source": [
    "cfg.fileName.events"
   ]
  },
  {
   "cell_type": "markdown",
   "metadata": {},
   "source": [
    "### Saving a `_bold.json` file\n",
    "\n",
    "There is bare minimum functionality to create a `_bold.json` file for fMRI runs: the information in there wil be that required to pass a BIDS validation but no more. You should REALLY get most of the information for `bold.json` from your favorite DICOM to Nifti converter\n",
    "\n",
    "This function is there because it can help put in JSON format some of the information that would NOT be available to a converter (usually information about your task)."
   ]
  },
  {
   "cell_type": "code",
   "execution_count": null,
   "metadata": {},
   "outputs": [],
   "source": [
    "createBoldJson(cfg)"
   ]
  },
  {
   "cell_type": "code",
   "execution_count": null,
   "metadata": {},
   "outputs": [],
   "source": [
    "!tree"
   ]
  },
  {
   "cell_type": "code",
   "execution_count": null,
   "metadata": {},
   "outputs": [],
   "source": [
    "!cat output/source/sub-001/ses-001/func/sub-001*bold_date-*.json"
   ]
  },
  {
   "cell_type": "markdown",
   "metadata": {},
   "source": [
    "### Adding extra info to your `_bold.json`\n",
    "\n",
    "One thing this function CAN do though is help you save some of the information about your experiment in a json format rather than a `.mat` format. The former being a simple text file you can easily open on any computer.\n",
    "\n",
    "For example if you have defined some other parameters in another structure."
   ]
  },
  {
   "cell_type": "code",
   "execution_count": null,
   "metadata": {},
   "outputs": [],
   "source": [
    "%% Timing info\n",
    "\n",
    "% Time between blocs in secs\n",
    "parameters.timing.IBI = 1.8 * 3; % 8;\n",
    "% Time between events in secs\n",
    "parameters.timing.ISI = 0.1;\n",
    "% Number of seconds before the motion stimuli are presented\n",
    "parameters.timing.onsetDelay = .1;\n",
    "% Number of seconds after the end all the stimuli before ending the run\n",
    "parameters.timing.endDelay = .1;\n",
    "\n",
    "parameters.timing.eventDuration = 0.8; % second\n",
    "\n",
    "%% Visual Stimulation\n",
    "\n",
    "% Speed in visual angles / second\n",
    "parameters.dot.speed = 30;\n",
    "% Coherence Level (0-1)\n",
    "parameters.dot.coherence = 1;\n",
    "% Number of dots per visual angle square.\n",
    "parameters.dot.density = .1;\n",
    "% Dot life time in seconds\n",
    "parameters.dot.lifeTime = 10;\n",
    "% proportion of dots killed per frame\n",
    "parameters.dot.proportionKilledPerFrame = 0;\n",
    "% Dot Size (dot width) in visual angles.\n",
    "parameters.dot.size = 1;"
   ]
  },
  {
   "cell_type": "code",
   "execution_count": null,
   "metadata": {},
   "outputs": [],
   "source": [
    "createBoldJson(cfg, parameters)"
   ]
  },
  {
   "cell_type": "code",
   "execution_count": null,
   "metadata": {},
   "outputs": [],
   "source": [
    "!cat output/source/sub-001/ses-001/func/sub-001*bold_date-*.json"
   ]
  },
  {
   "cell_type": "markdown",
   "metadata": {},
   "source": [
    "## Converting your data set from source to raw\n",
    "\n",
    "Before we do that, let's adding some actual data to the dataset."
   ]
  },
  {
   "cell_type": "code",
   "execution_count": null,
   "metadata": {},
   "outputs": [],
   "source": [
    "\n",
    "logFile.extraColumns = {'target_position', 'target_type'};\n",
    "\n",
    "logFile = saveEventsFile('open', cfg, logFile);\n",
    "\n",
    "logFile(1,1).onset = 2;\n",
    "logFile(1,1).trial_type = 'motion_up';\n",
    "logFile(1,1).duration = 1;\n",
    "logFile(1,1).target_position = 'left';\n",
    "logFile(1,1).target_type = 'audio';\n",
    "\n",
    "logFile(2,1).onset = 6;\n",
    "logFile(2,1).trial_type = 'static';\n",
    "logFile(2,1).duration = 1.2;\n",
    "logFile(2,1).target_position = 'right';\n",
    "logFile(2,1).target_type = 'visual';\n",
    "\n",
    "logFile = saveEventsFile('save', cfg, logFile);\n",
    "\n",
    "saveEventsFile('close', cfg, logFile);"
   ]
  },
  {
   "cell_type": "code",
   "execution_count": null,
   "metadata": {
    "scrolled": false
   },
   "outputs": [],
   "source": [
    "!tree"
   ]
  },
  {
   "cell_type": "markdown",
   "metadata": {},
   "source": [
    "The very basic conversion here mostly entails:\n",
    "- adding empty README and CHANGES files in the `source` folder\n",
    "- copying the content of the `source` folder into a `raw` folder\n",
    "- removing the date suffixes\n",
    "- compressing `_stim.tsv` into `_stim.tsv.gz`"
   ]
  },
  {
   "cell_type": "code",
   "execution_count": null,
   "metadata": {},
   "outputs": [],
   "source": [
    "convertSourceToRaw(cfg)"
   ]
  },
  {
   "cell_type": "code",
   "execution_count": null,
   "metadata": {},
   "outputs": [],
   "source": [
    "!tree"
   ]
  }
 ],
 "metadata": {
  "kernelspec": {
   "display_name": "Octave",
   "language": "octave",
   "name": "octave"
  },
  "language_info": {
   "file_extension": ".m",
   "help_links": [
    {
     "text": "GNU Octave",
     "url": "https://www.gnu.org/software/octave/support.html"
    },
    {
     "text": "Octave Kernel",
     "url": "https://github.com/Calysto/octave_kernel"
    },
    {
     "text": "MetaKernel Magics",
     "url": "https://metakernel.readthedocs.io/en/latest/source/README.html"
    }
   ],
   "mimetype": "text/x-octave",
   "name": "octave",
   "version": "4.2.2"
  }
 },
 "nbformat": 4,
 "nbformat_minor": 4
}
